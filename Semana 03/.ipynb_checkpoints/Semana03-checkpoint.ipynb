{
 "cells": [
  {
   "cell_type": "markdown",
   "id": "140d42fa-7c1c-40ee-ad08-adab4c95840e",
   "metadata": {},
   "source": [
    "Semana 03\n",
    "Willy Delgado Tuanama"
   ]
  },
  {
   "cell_type": "markdown",
   "id": "9569090c-9a87-4d70-bcec-537a18b42867",
   "metadata": {},
   "source": [
    "Numeros"
   ]
  },
  {
   "cell_type": "code",
   "execution_count": 3,
   "id": "476cb6a0-ff10-402c-bf0e-e011f0062cd9",
   "metadata": {},
   "outputs": [
    {
     "data": {
      "text/plain": [
       "9"
      ]
     },
     "execution_count": 3,
     "metadata": {},
     "output_type": "execute_result"
    }
   ],
   "source": [
    "4 + 5"
   ]
  },
  {
   "cell_type": "code",
   "execution_count": null,
   "id": "eca9f710-f6ae-4bf6-b6ad-4bdd18c38f26",
   "metadata": {},
   "outputs": [],
   "source": []
  }
 ],
 "metadata": {
  "kernelspec": {
   "display_name": "Python 3 (ipykernel)",
   "language": "python",
   "name": "python3"
  },
  "language_info": {
   "codemirror_mode": {
    "name": "ipython",
    "version": 3
   },
   "file_extension": ".py",
   "mimetype": "text/x-python",
   "name": "python",
   "nbconvert_exporter": "python",
   "pygments_lexer": "ipython3",
   "version": "3.9.12"
  }
 },
 "nbformat": 4,
 "nbformat_minor": 5
}
