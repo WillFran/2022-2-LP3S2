{
 "cells": [
  {
   "cell_type": "markdown",
   "id": "ccf81b60-1786-46a9-b44b-e4a0dc72847f",
   "metadata": {},
   "source": [
    "2. Variables"
   ]
  },
  {
   "cell_type": "markdown",
   "id": "75215988-b7f3-4d52-a2b7-a995a60887a5",
   "metadata": {},
   "source": [
    "#Siempre iniciar con letra o guion a bajo"
   ]
  },
  {
   "cell_type": "code",
   "execution_count": 1,
   "id": "7007d295-2cd0-4ed7-a747-556895a66e4a",
   "metadata": {},
   "outputs": [
    {
     "data": {
      "text/plain": [
       "41"
      ]
     },
     "execution_count": 1,
     "metadata": {},
     "output_type": "execute_result"
    }
   ],
   "source": [
    "edad = 41\n",
    "edad"
   ]
  },
  {
   "cell_type": "code",
   "execution_count": 2,
   "id": "83ad35db-03dc-49ff-9d95-4862643fff06",
   "metadata": {},
   "outputs": [
    {
     "data": {
      "text/plain": [
       "'Willy'"
      ]
     },
     "execution_count": 2,
     "metadata": {},
     "output_type": "execute_result"
    }
   ],
   "source": [
    "Nombre = \"Willy\"\n",
    "Nombre"
   ]
  },
  {
   "cell_type": "code",
   "execution_count": 3,
   "id": "350c57b6-bf29-4e60-907b-da6ef5c0e6b1",
   "metadata": {},
   "outputs": [
    {
     "data": {
      "text/plain": [
       "'Delgado Tuanama'"
      ]
     },
     "execution_count": 3,
     "metadata": {},
     "output_type": "execute_result"
    }
   ],
   "source": [
    "Apellido = \"Delgado Tuanama\"\n",
    "Apellido"
   ]
  },
  {
   "cell_type": "code",
   "execution_count": 4,
   "id": "ac284f4b-ee6a-4798-a2b3-09a4c1178fe6",
   "metadata": {},
   "outputs": [
    {
     "data": {
      "text/plain": [
       "'Willy Delgado Tuanama'"
      ]
     },
     "execution_count": 4,
     "metadata": {},
     "output_type": "execute_result"
    }
   ],
   "source": [
    "NombreCompleto = Nombre + \" \" + Apellido\n",
    "NombreCompleto"
   ]
  },
  {
   "cell_type": "code",
   "execution_count": 5,
   "id": "9081dc8a-a81d-47d4-ae06-2340aede966e",
   "metadata": {},
   "outputs": [
    {
     "data": {
      "text/plain": [
       "int"
      ]
     },
     "execution_count": 5,
     "metadata": {},
     "output_type": "execute_result"
    }
   ],
   "source": [
    "#Para saber el tipo de variable utilizamos funcion type()\n",
    "#Ejemplo:\n",
    "numero = 50\n",
    "type(numero)"
   ]
  },
  {
   "cell_type": "code",
   "execution_count": 6,
   "id": "c9e2454d-9a75-43d0-a43e-3ddc962ddeaf",
   "metadata": {},
   "outputs": [
    {
     "data": {
      "text/plain": [
       "float"
      ]
     },
     "execution_count": 6,
     "metadata": {},
     "output_type": "execute_result"
    }
   ],
   "source": [
    "Talla = 1.68\n",
    "Talla\n",
    "type(Talla)"
   ]
  },
  {
   "cell_type": "code",
   "execution_count": 7,
   "id": "5db32c57-05cd-4c7b-91b8-cfee365eefc6",
   "metadata": {},
   "outputs": [],
   "source": [
    "#Para convertir un numero a cadena utilizamos str()\n",
    "numero = 100\n",
    "cadena = str(numero)"
   ]
  },
  {
   "cell_type": "code",
   "execution_count": 8,
   "id": "286aa3a0-bb23-40f5-abd9-a9b0f39f4968",
   "metadata": {},
   "outputs": [
    {
     "data": {
      "text/plain": [
       "'100'"
      ]
     },
     "execution_count": 8,
     "metadata": {},
     "output_type": "execute_result"
    }
   ],
   "source": [
    "cadena"
   ]
  },
  {
   "cell_type": "code",
   "execution_count": 9,
   "id": "7fa1e112-baaa-4db9-9675-da1077a915c9",
   "metadata": {},
   "outputs": [
    {
     "data": {
      "text/plain": [
       "str"
      ]
     },
     "execution_count": 9,
     "metadata": {},
     "output_type": "execute_result"
    }
   ],
   "source": [
    "type(cadena)"
   ]
  },
  {
   "cell_type": "code",
   "execution_count": 10,
   "id": "fac2898d-f396-4296-83f1-4351ea3d2f85",
   "metadata": {},
   "outputs": [
    {
     "data": {
      "text/plain": [
       "50"
      ]
     },
     "execution_count": 10,
     "metadata": {},
     "output_type": "execute_result"
    }
   ],
   "source": [
    "# Para convertir una cadena en un entero utilizamos int()\n",
    "cadena2 = \"50\"\n",
    "numero2 = int(cadena2)\n",
    "numero2"
   ]
  },
  {
   "cell_type": "code",
   "execution_count": 11,
   "id": "f983ccca-d55e-46d1-8ad9-40d8d2e7d95a",
   "metadata": {},
   "outputs": [
    {
     "data": {
      "text/plain": [
       "int"
      ]
     },
     "execution_count": 11,
     "metadata": {},
     "output_type": "execute_result"
    }
   ],
   "source": [
    "type(numero2)"
   ]
  },
  {
   "cell_type": "code",
   "execution_count": 12,
   "id": "3480da6a-e805-4951-b793-c2203339b93f",
   "metadata": {},
   "outputs": [
    {
     "data": {
      "text/plain": [
       "50.0"
      ]
     },
     "execution_count": 12,
     "metadata": {},
     "output_type": "execute_result"
    }
   ],
   "source": [
    "#Para convertir una cadena a un decimal utilizamos float()\n",
    "cadena2 = \"50\"\n",
    "numero2 = float(cadena2)\n",
    "numero2"
   ]
  },
  {
   "cell_type": "code",
   "execution_count": 13,
   "id": "dc62f104-4ca7-4b3b-80b5-19d28d770bd6",
   "metadata": {},
   "outputs": [
    {
     "data": {
      "text/plain": [
       "float"
      ]
     },
     "execution_count": 13,
     "metadata": {},
     "output_type": "execute_result"
    }
   ],
   "source": [
    "type(numero2)"
   ]
  },
  {
   "cell_type": "code",
   "execution_count": null,
   "id": "92ebeed5-cef8-49a0-8164-ae154ae2e1e4",
   "metadata": {},
   "outputs": [],
   "source": []
  }
 ],
 "metadata": {
  "kernelspec": {
   "display_name": "Python 3 (ipykernel)",
   "language": "python",
   "name": "python3"
  },
  "language_info": {
   "codemirror_mode": {
    "name": "ipython",
    "version": 3
   },
   "file_extension": ".py",
   "mimetype": "text/x-python",
   "name": "python",
   "nbconvert_exporter": "python",
   "pygments_lexer": "ipython3",
   "version": "3.9.12"
  }
 },
 "nbformat": 4,
 "nbformat_minor": 5
}
